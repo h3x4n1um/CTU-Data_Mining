{
  "nbformat": 4,
  "nbformat_minor": 0,
  "metadata": {
    "colab": {
      "name": "CT312-Lab1.ipynb",
      "provenance": [],
      "collapsed_sections": [],
      "toc_visible": true
    },
    "kernelspec": {
      "name": "python3",
      "display_name": "Python 3",
      "language": "python"
    }
  },
  "cells": [
    {
      "cell_type": "markdown",
      "metadata": {
        "id": "fgpM3YXBp9cc"
      },
      "source": [
        "#1. Indexing, Selecting & Assigning"
      ]
    },
    {
      "cell_type": "markdown",
      "metadata": {
        "id": "5UqhFVN3vJ9s"
      },
      "source": [
        "##Introduction"
      ]
    },
    {
      "cell_type": "code",
      "metadata": {
        "colab": {
          "base_uri": "https://localhost:8080/",
          "height": 311
        },
        "id": "xGJuCGEXpxzI",
        "outputId": "a562c75c-397f-421d-b956-323af7e6a69c"
      },
      "source": [
        "import pandas as pd\r\n",
        "\r\n",
        "reviews = pd.read_csv(\"https://raw.githubusercontent.com/ltdaovn/dataset/master/wine-reviews/winemag-data-130k-v2.csv\", index_col=0)\r\n",
        "pd.set_option(\"display.max_rows\", 5)\r\n",
        "print(\"Setup complete.\")\r\n",
        "reviews.head()"
      ],
      "execution_count": 1,
      "outputs": [
        {
          "output_type": "stream",
          "name": "stdout",
          "text": [
            "Setup complete.\n"
          ]
        },
        {
          "output_type": "execute_result",
          "data": {
            "text/plain": [
              "    country                                        description  \\\n",
              "0     Italy  Aromas include tropical fruit, broom, brimston...   \n",
              "1  Portugal  This is ripe and fruity, a wine that is smooth...   \n",
              "2        US  Tart and snappy, the flavors of lime flesh and...   \n",
              "3        US  Pineapple rind, lemon pith and orange blossom ...   \n",
              "4        US  Much like the regular bottling from 2012, this...   \n",
              "\n",
              "                          designation  points  price           province  \\\n",
              "0                        Vulkà Bianco      87    NaN  Sicily & Sardinia   \n",
              "1                            Avidagos      87   15.0              Douro   \n",
              "2                                 NaN      87   14.0             Oregon   \n",
              "3                Reserve Late Harvest      87   13.0           Michigan   \n",
              "4  Vintner's Reserve Wild Child Block      87   65.0             Oregon   \n",
              "\n",
              "              region_1           region_2         taster_name  \\\n",
              "0                 Etna                NaN       Kerin O’Keefe   \n",
              "1                  NaN                NaN          Roger Voss   \n",
              "2    Willamette Valley  Willamette Valley        Paul Gregutt   \n",
              "3  Lake Michigan Shore                NaN  Alexander Peartree   \n",
              "4    Willamette Valley  Willamette Valley        Paul Gregutt   \n",
              "\n",
              "  taster_twitter_handle                                              title  \\\n",
              "0          @kerinokeefe                  Nicosia 2013 Vulkà Bianco  (Etna)   \n",
              "1            @vossroger      Quinta dos Avidagos 2011 Avidagos Red (Douro)   \n",
              "2           @paulgwine       Rainstorm 2013 Pinot Gris (Willamette Valley)   \n",
              "3                   NaN  St. Julian 2013 Reserve Late Harvest Riesling ...   \n",
              "4           @paulgwine   Sweet Cheeks 2012 Vintner's Reserve Wild Child...   \n",
              "\n",
              "          variety               winery  \n",
              "0     White Blend              Nicosia  \n",
              "1  Portuguese Red  Quinta dos Avidagos  \n",
              "2      Pinot Gris            Rainstorm  \n",
              "3        Riesling           St. Julian  \n",
              "4      Pinot Noir         Sweet Cheeks  "
            ],
            "text/html": "<div>\n<style scoped>\n    .dataframe tbody tr th:only-of-type {\n        vertical-align: middle;\n    }\n\n    .dataframe tbody tr th {\n        vertical-align: top;\n    }\n\n    .dataframe thead th {\n        text-align: right;\n    }\n</style>\n<table border=\"1\" class=\"dataframe\">\n  <thead>\n    <tr style=\"text-align: right;\">\n      <th></th>\n      <th>country</th>\n      <th>description</th>\n      <th>designation</th>\n      <th>points</th>\n      <th>price</th>\n      <th>province</th>\n      <th>region_1</th>\n      <th>region_2</th>\n      <th>taster_name</th>\n      <th>taster_twitter_handle</th>\n      <th>title</th>\n      <th>variety</th>\n      <th>winery</th>\n    </tr>\n  </thead>\n  <tbody>\n    <tr>\n      <th>0</th>\n      <td>Italy</td>\n      <td>Aromas include tropical fruit, broom, brimston...</td>\n      <td>Vulkà Bianco</td>\n      <td>87</td>\n      <td>NaN</td>\n      <td>Sicily &amp; Sardinia</td>\n      <td>Etna</td>\n      <td>NaN</td>\n      <td>Kerin O’Keefe</td>\n      <td>@kerinokeefe</td>\n      <td>Nicosia 2013 Vulkà Bianco  (Etna)</td>\n      <td>White Blend</td>\n      <td>Nicosia</td>\n    </tr>\n    <tr>\n      <th>1</th>\n      <td>Portugal</td>\n      <td>This is ripe and fruity, a wine that is smooth...</td>\n      <td>Avidagos</td>\n      <td>87</td>\n      <td>15.0</td>\n      <td>Douro</td>\n      <td>NaN</td>\n      <td>NaN</td>\n      <td>Roger Voss</td>\n      <td>@vossroger</td>\n      <td>Quinta dos Avidagos 2011 Avidagos Red (Douro)</td>\n      <td>Portuguese Red</td>\n      <td>Quinta dos Avidagos</td>\n    </tr>\n    <tr>\n      <th>2</th>\n      <td>US</td>\n      <td>Tart and snappy, the flavors of lime flesh and...</td>\n      <td>NaN</td>\n      <td>87</td>\n      <td>14.0</td>\n      <td>Oregon</td>\n      <td>Willamette Valley</td>\n      <td>Willamette Valley</td>\n      <td>Paul Gregutt</td>\n      <td>@paulgwine</td>\n      <td>Rainstorm 2013 Pinot Gris (Willamette Valley)</td>\n      <td>Pinot Gris</td>\n      <td>Rainstorm</td>\n    </tr>\n    <tr>\n      <th>3</th>\n      <td>US</td>\n      <td>Pineapple rind, lemon pith and orange blossom ...</td>\n      <td>Reserve Late Harvest</td>\n      <td>87</td>\n      <td>13.0</td>\n      <td>Michigan</td>\n      <td>Lake Michigan Shore</td>\n      <td>NaN</td>\n      <td>Alexander Peartree</td>\n      <td>NaN</td>\n      <td>St. Julian 2013 Reserve Late Harvest Riesling ...</td>\n      <td>Riesling</td>\n      <td>St. Julian</td>\n    </tr>\n    <tr>\n      <th>4</th>\n      <td>US</td>\n      <td>Much like the regular bottling from 2012, this...</td>\n      <td>Vintner's Reserve Wild Child Block</td>\n      <td>87</td>\n      <td>65.0</td>\n      <td>Oregon</td>\n      <td>Willamette Valley</td>\n      <td>Willamette Valley</td>\n      <td>Paul Gregutt</td>\n      <td>@paulgwine</td>\n      <td>Sweet Cheeks 2012 Vintner's Reserve Wild Child...</td>\n      <td>Pinot Noir</td>\n      <td>Sweet Cheeks</td>\n    </tr>\n  </tbody>\n</table>\n</div>"
          },
          "metadata": {},
          "execution_count": 1
        }
      ]
    },
    {
      "cell_type": "markdown",
      "metadata": {
        "id": "w3O6ryJ9vGyk"
      },
      "source": [
        "##Exercises"
      ]
    },
    {
      "cell_type": "markdown",
      "metadata": {
        "id": "knVnRHpPvhNM"
      },
      "source": [
        "###1. Select the `description` column from `reviews` and assign the result to the variable `desc`."
      ]
    },
    {
      "cell_type": "code",
      "metadata": {
        "colab": {
          "base_uri": "https://localhost:8080/"
        },
        "id": "cEI4IAhip79I",
        "outputId": "ecbd3643-fed3-4283-e919-9e8987bdf9a0"
      },
      "source": [
        "desc = reviews.description\r\n",
        "desc"
      ],
      "execution_count": 2,
      "outputs": [
        {
          "output_type": "execute_result",
          "data": {
            "text/plain": [
              "0         Aromas include tropical fruit, broom, brimston...\n",
              "1         This is ripe and fruity, a wine that is smooth...\n",
              "                                ...                        \n",
              "129969    A dry style of Pinot Gris, this is crisp with ...\n",
              "129970    Big, rich and off-dry, this is powered by inte...\n",
              "Name: description, Length: 129971, dtype: object"
            ]
          },
          "metadata": {},
          "execution_count": 2
        }
      ]
    },
    {
      "cell_type": "code",
      "metadata": {
        "colab": {
          "base_uri": "https://localhost:8080/"
        },
        "id": "bXm5Rx0bvvnE",
        "outputId": "f7da16f1-9284-4db0-d6b5-f3a98a19cc3e"
      },
      "source": [
        "type(desc)"
      ],
      "execution_count": 3,
      "outputs": [
        {
          "output_type": "execute_result",
          "data": {
            "text/plain": [
              "pandas.core.series.Series"
            ]
          },
          "metadata": {},
          "execution_count": 3
        }
      ]
    },
    {
      "cell_type": "markdown",
      "metadata": {
        "id": "FphQedyWv3WY"
      },
      "source": [
        "###2. Select the first value from the description column of `reviews`,  assigning it to variable `first_description`."
      ]
    },
    {
      "cell_type": "code",
      "metadata": {
        "colab": {
          "base_uri": "https://localhost:8080/",
          "height": 36
        },
        "id": "__HaVMqxwEHk",
        "outputId": "e1f16536-a2df-494d-a8e0-7c7afec3f5ce"
      },
      "source": [
        "first_description = reviews.description.iloc[0]\r\n",
        "first_description"
      ],
      "execution_count": 4,
      "outputs": [
        {
          "output_type": "execute_result",
          "data": {
            "text/plain": [
              "\"Aromas include tropical fruit, broom, brimstone and dried herb. The palate isn't overly expressive, offering unripened apple, citrus and dried sage alongside brisk acidity.\""
            ]
          },
          "metadata": {},
          "execution_count": 4
        }
      ]
    },
    {
      "cell_type": "markdown",
      "metadata": {
        "id": "hiLRjJp1yKvM"
      },
      "source": [
        "###3. Select the first row of data (the first record) from `reviews`, assigning it to the variable `first_row`."
      ]
    },
    {
      "cell_type": "code",
      "metadata": {
        "colab": {
          "base_uri": "https://localhost:8080/"
        },
        "id": "y0KCenS5zKSY",
        "outputId": "cbfc907b-c4e8-4e90-b83f-580491ddd6e2"
      },
      "source": [
        "first_row = reviews.iloc[0]\r\n",
        "first_row"
      ],
      "execution_count": 5,
      "outputs": [
        {
          "output_type": "execute_result",
          "data": {
            "text/plain": [
              "country                                                    Italy\n",
              "description    Aromas include tropical fruit, broom, brimston...\n",
              "                                     ...                        \n",
              "variety                                              White Blend\n",
              "winery                                                   Nicosia\n",
              "Name: 0, Length: 13, dtype: object"
            ]
          },
          "metadata": {},
          "execution_count": 5
        }
      ]
    },
    {
      "cell_type": "markdown",
      "metadata": {
        "id": "0lafAQdz2Ruc"
      },
      "source": [
        "###4. Select the first 10 value from the `description` column in `reviews`, assigning the result to variable `first_descriptions`."
      ]
    },
    {
      "cell_type": "markdown",
      "metadata": {
        "id": "1aWSUrRk5C38"
      },
      "source": [
        "Hint: format your output as a pandas Series."
      ]
    },
    {
      "cell_type": "code",
      "metadata": {
        "colab": {
          "base_uri": "https://localhost:8080/"
        },
        "id": "gGDtpvNO2tC4",
        "outputId": "7b84fa49-2950-4114-e00d-18f97b613da4"
      },
      "source": [
        "first_descriptions = reviews.description.iloc[:10]\r\n",
        "first_descriptions"
      ],
      "execution_count": 6,
      "outputs": [
        {
          "output_type": "execute_result",
          "data": {
            "text/plain": [
              "0    Aromas include tropical fruit, broom, brimston...\n",
              "1    This is ripe and fruity, a wine that is smooth...\n",
              "                           ...                        \n",
              "8    Savory dried thyme notes accent sunnier flavor...\n",
              "9    This has great depth of flavor with its fresh ...\n",
              "Name: description, Length: 10, dtype: object"
            ]
          },
          "metadata": {},
          "execution_count": 6
        }
      ]
    },
    {
      "cell_type": "markdown",
      "metadata": {
        "id": "RWtTxcSP3J7U"
      },
      "source": [
        "###5. Select the records with index labels `1`, `2`, `3`, `5`, and `8`, assigning the result to the variable `sample_reviews`."
      ]
    },
    {
      "cell_type": "code",
      "metadata": {
        "colab": {
          "base_uri": "https://localhost:8080/",
          "height": 345
        },
        "id": "JNcaomuU3UAo",
        "outputId": "fdf56b91-54f3-4ca9-9292-677ce2d110ed"
      },
      "source": [
        "sample_reviews = reviews.iloc[[1,2,3,5,8]]\r\n",
        "sample_reviews"
      ],
      "execution_count": 7,
      "outputs": [
        {
          "output_type": "execute_result",
          "data": {
            "text/plain": [
              "    country                                        description  \\\n",
              "1  Portugal  This is ripe and fruity, a wine that is smooth...   \n",
              "2        US  Tart and snappy, the flavors of lime flesh and...   \n",
              "3        US  Pineapple rind, lemon pith and orange blossom ...   \n",
              "5     Spain  Blackberry and raspberry aromas show a typical...   \n",
              "8   Germany  Savory dried thyme notes accent sunnier flavor...   \n",
              "\n",
              "            designation  points  price        province             region_1  \\\n",
              "1              Avidagos      87   15.0           Douro                  NaN   \n",
              "2                   NaN      87   14.0          Oregon    Willamette Valley   \n",
              "3  Reserve Late Harvest      87   13.0        Michigan  Lake Michigan Shore   \n",
              "5          Ars In Vitro      87   15.0  Northern Spain              Navarra   \n",
              "8                 Shine      87   12.0     Rheinhessen                  NaN   \n",
              "\n",
              "            region_2         taster_name taster_twitter_handle  \\\n",
              "1                NaN          Roger Voss            @vossroger   \n",
              "2  Willamette Valley        Paul Gregutt           @paulgwine    \n",
              "3                NaN  Alexander Peartree                   NaN   \n",
              "5                NaN   Michael Schachner           @wineschach   \n",
              "8                NaN  Anna Lee C. Iijima                   NaN   \n",
              "\n",
              "                                               title             variety  \\\n",
              "1      Quinta dos Avidagos 2011 Avidagos Red (Douro)      Portuguese Red   \n",
              "2      Rainstorm 2013 Pinot Gris (Willamette Valley)          Pinot Gris   \n",
              "3  St. Julian 2013 Reserve Late Harvest Riesling ...            Riesling   \n",
              "5  Tandem 2011 Ars In Vitro Tempranillo-Merlot (N...  Tempranillo-Merlot   \n",
              "8  Heinz Eifel 2013 Shine Gewürztraminer (Rheinhe...      Gewürztraminer   \n",
              "\n",
              "                winery  \n",
              "1  Quinta dos Avidagos  \n",
              "2            Rainstorm  \n",
              "3           St. Julian  \n",
              "5               Tandem  \n",
              "8          Heinz Eifel  "
            ],
            "text/html": "<div>\n<style scoped>\n    .dataframe tbody tr th:only-of-type {\n        vertical-align: middle;\n    }\n\n    .dataframe tbody tr th {\n        vertical-align: top;\n    }\n\n    .dataframe thead th {\n        text-align: right;\n    }\n</style>\n<table border=\"1\" class=\"dataframe\">\n  <thead>\n    <tr style=\"text-align: right;\">\n      <th></th>\n      <th>country</th>\n      <th>description</th>\n      <th>designation</th>\n      <th>points</th>\n      <th>price</th>\n      <th>province</th>\n      <th>region_1</th>\n      <th>region_2</th>\n      <th>taster_name</th>\n      <th>taster_twitter_handle</th>\n      <th>title</th>\n      <th>variety</th>\n      <th>winery</th>\n    </tr>\n  </thead>\n  <tbody>\n    <tr>\n      <th>1</th>\n      <td>Portugal</td>\n      <td>This is ripe and fruity, a wine that is smooth...</td>\n      <td>Avidagos</td>\n      <td>87</td>\n      <td>15.0</td>\n      <td>Douro</td>\n      <td>NaN</td>\n      <td>NaN</td>\n      <td>Roger Voss</td>\n      <td>@vossroger</td>\n      <td>Quinta dos Avidagos 2011 Avidagos Red (Douro)</td>\n      <td>Portuguese Red</td>\n      <td>Quinta dos Avidagos</td>\n    </tr>\n    <tr>\n      <th>2</th>\n      <td>US</td>\n      <td>Tart and snappy, the flavors of lime flesh and...</td>\n      <td>NaN</td>\n      <td>87</td>\n      <td>14.0</td>\n      <td>Oregon</td>\n      <td>Willamette Valley</td>\n      <td>Willamette Valley</td>\n      <td>Paul Gregutt</td>\n      <td>@paulgwine</td>\n      <td>Rainstorm 2013 Pinot Gris (Willamette Valley)</td>\n      <td>Pinot Gris</td>\n      <td>Rainstorm</td>\n    </tr>\n    <tr>\n      <th>3</th>\n      <td>US</td>\n      <td>Pineapple rind, lemon pith and orange blossom ...</td>\n      <td>Reserve Late Harvest</td>\n      <td>87</td>\n      <td>13.0</td>\n      <td>Michigan</td>\n      <td>Lake Michigan Shore</td>\n      <td>NaN</td>\n      <td>Alexander Peartree</td>\n      <td>NaN</td>\n      <td>St. Julian 2013 Reserve Late Harvest Riesling ...</td>\n      <td>Riesling</td>\n      <td>St. Julian</td>\n    </tr>\n    <tr>\n      <th>5</th>\n      <td>Spain</td>\n      <td>Blackberry and raspberry aromas show a typical...</td>\n      <td>Ars In Vitro</td>\n      <td>87</td>\n      <td>15.0</td>\n      <td>Northern Spain</td>\n      <td>Navarra</td>\n      <td>NaN</td>\n      <td>Michael Schachner</td>\n      <td>@wineschach</td>\n      <td>Tandem 2011 Ars In Vitro Tempranillo-Merlot (N...</td>\n      <td>Tempranillo-Merlot</td>\n      <td>Tandem</td>\n    </tr>\n    <tr>\n      <th>8</th>\n      <td>Germany</td>\n      <td>Savory dried thyme notes accent sunnier flavor...</td>\n      <td>Shine</td>\n      <td>87</td>\n      <td>12.0</td>\n      <td>Rheinhessen</td>\n      <td>NaN</td>\n      <td>NaN</td>\n      <td>Anna Lee C. Iijima</td>\n      <td>NaN</td>\n      <td>Heinz Eifel 2013 Shine Gewürztraminer (Rheinhe...</td>\n      <td>Gewürztraminer</td>\n      <td>Heinz Eifel</td>\n    </tr>\n  </tbody>\n</table>\n</div>"
          },
          "metadata": {},
          "execution_count": 7
        }
      ]
    },
    {
      "cell_type": "markdown",
      "metadata": {
        "id": "oqiIxGfU3oyU"
      },
      "source": [
        "###6. Create a variable `df` containing the `country`, `province`, `region_1`, and `region_2` columns of the records with the index labels `0`, `1`, `10`, and `100`."
      ]
    },
    {
      "cell_type": "code",
      "metadata": {
        "colab": {
          "base_uri": "https://localhost:8080/",
          "height": 175
        },
        "id": "3687qJ5S36tM",
        "outputId": "a0c3bec8-5d7a-4826-8dae-0067e3ba760c"
      },
      "source": [
        "cols = ['country', 'province', 'region_1', 'region_2']\r\n",
        "indices = [0, 1, 10, 100]\r\n",
        "df = reviews.loc[indices, cols]\r\n",
        "df"
      ],
      "execution_count": 8,
      "outputs": [
        {
          "output_type": "execute_result",
          "data": {
            "text/plain": [
              "      country           province      region_1      region_2\n",
              "0       Italy  Sicily & Sardinia          Etna           NaN\n",
              "1    Portugal              Douro           NaN           NaN\n",
              "10         US         California   Napa Valley          Napa\n",
              "100        US           New York  Finger Lakes  Finger Lakes"
            ],
            "text/html": "<div>\n<style scoped>\n    .dataframe tbody tr th:only-of-type {\n        vertical-align: middle;\n    }\n\n    .dataframe tbody tr th {\n        vertical-align: top;\n    }\n\n    .dataframe thead th {\n        text-align: right;\n    }\n</style>\n<table border=\"1\" class=\"dataframe\">\n  <thead>\n    <tr style=\"text-align: right;\">\n      <th></th>\n      <th>country</th>\n      <th>province</th>\n      <th>region_1</th>\n      <th>region_2</th>\n    </tr>\n  </thead>\n  <tbody>\n    <tr>\n      <th>0</th>\n      <td>Italy</td>\n      <td>Sicily &amp; Sardinia</td>\n      <td>Etna</td>\n      <td>NaN</td>\n    </tr>\n    <tr>\n      <th>1</th>\n      <td>Portugal</td>\n      <td>Douro</td>\n      <td>NaN</td>\n      <td>NaN</td>\n    </tr>\n    <tr>\n      <th>10</th>\n      <td>US</td>\n      <td>California</td>\n      <td>Napa Valley</td>\n      <td>Napa</td>\n    </tr>\n    <tr>\n      <th>100</th>\n      <td>US</td>\n      <td>New York</td>\n      <td>Finger Lakes</td>\n      <td>Finger Lakes</td>\n    </tr>\n  </tbody>\n</table>\n</div>"
          },
          "metadata": {},
          "execution_count": 8
        }
      ]
    },
    {
      "cell_type": "markdown",
      "metadata": {
        "id": "OeN5WsPV4cQE"
      },
      "source": [
        "###7. Create a variable `df` containing the `country` and `variety` columns of the first 100 records."
      ]
    },
    {
      "cell_type": "markdown",
      "metadata": {
        "id": "luwydtb044_I"
      },
      "source": [
        "Hint: you may use loc or iloc."
      ]
    },
    {
      "cell_type": "code",
      "metadata": {
        "colab": {
          "base_uri": "https://localhost:8080/",
          "height": 236
        },
        "id": "q0sPyLRy4mv8",
        "outputId": "ca518d7e-ccd6-49de-cf09-bb44b5ba0002"
      },
      "source": [
        "cols = ['country', 'variety']\r\n",
        "df = reviews.loc[:99, cols]\r\n",
        "df"
      ],
      "execution_count": 9,
      "outputs": [
        {
          "output_type": "execute_result",
          "data": {
            "text/plain": [
              "     country                   variety\n",
              "0      Italy               White Blend\n",
              "1   Portugal            Portuguese Red\n",
              "..       ...                       ...\n",
              "98     Italy                Sangiovese\n",
              "99        US  Bordeaux-style Red Blend\n",
              "\n",
              "[100 rows x 2 columns]"
            ],
            "text/html": "<div>\n<style scoped>\n    .dataframe tbody tr th:only-of-type {\n        vertical-align: middle;\n    }\n\n    .dataframe tbody tr th {\n        vertical-align: top;\n    }\n\n    .dataframe thead th {\n        text-align: right;\n    }\n</style>\n<table border=\"1\" class=\"dataframe\">\n  <thead>\n    <tr style=\"text-align: right;\">\n      <th></th>\n      <th>country</th>\n      <th>variety</th>\n    </tr>\n  </thead>\n  <tbody>\n    <tr>\n      <th>0</th>\n      <td>Italy</td>\n      <td>White Blend</td>\n    </tr>\n    <tr>\n      <th>1</th>\n      <td>Portugal</td>\n      <td>Portuguese Red</td>\n    </tr>\n    <tr>\n      <th>...</th>\n      <td>...</td>\n      <td>...</td>\n    </tr>\n    <tr>\n      <th>98</th>\n      <td>Italy</td>\n      <td>Sangiovese</td>\n    </tr>\n    <tr>\n      <th>99</th>\n      <td>US</td>\n      <td>Bordeaux-style Red Blend</td>\n    </tr>\n  </tbody>\n</table>\n<p>100 rows × 2 columns</p>\n</div>"
          },
          "metadata": {},
          "execution_count": 9
        }
      ]
    },
    {
      "cell_type": "markdown",
      "metadata": {
        "id": "D1wbNnVJ4vcM"
      },
      "source": [
        "###8. Create a DataFrame `italian_wines` containing reviews of wines made in `Italy`."
      ]
    },
    {
      "cell_type": "markdown",
      "metadata": {
        "id": "nPXHUQf75IUY"
      },
      "source": [
        "Hint: `reviews.country` equals what?"
      ]
    },
    {
      "cell_type": "code",
      "metadata": {
        "colab": {
          "base_uri": "https://localhost:8080/",
          "height": 322
        },
        "id": "7JSgl0u35RFU",
        "outputId": "043d7f57-ad18-4e10-93d4-4fc6f74beec7"
      },
      "source": [
        "italian_wines = reviews[reviews.country == 'Italy']\r\n",
        "italian_wines"
      ],
      "execution_count": 10,
      "outputs": [
        {
          "output_type": "execute_result",
          "data": {
            "text/plain": [
              "       country                                        description  \\\n",
              "0        Italy  Aromas include tropical fruit, broom, brimston...   \n",
              "6        Italy  Here's a bright, informal red that opens with ...   \n",
              "...        ...                                                ...   \n",
              "129961   Italy  Intense aromas of wild cherry, baking spice, t...   \n",
              "129962   Italy  Blackberry, cassis, grilled herb and toasted a...   \n",
              "\n",
              "                      designation  points  price           province  region_1  \\\n",
              "0                    Vulkà Bianco      87    NaN  Sicily & Sardinia      Etna   \n",
              "6                         Belsito      87   16.0  Sicily & Sardinia  Vittoria   \n",
              "...                           ...     ...    ...                ...       ...   \n",
              "129961                        NaN      90   30.0  Sicily & Sardinia   Sicilia   \n",
              "129962  Sàgana Tenuta San Giacomo      90   40.0  Sicily & Sardinia   Sicilia   \n",
              "\n",
              "       region_2    taster_name taster_twitter_handle  \\\n",
              "0           NaN  Kerin O’Keefe          @kerinokeefe   \n",
              "6           NaN  Kerin O’Keefe          @kerinokeefe   \n",
              "...         ...            ...                   ...   \n",
              "129961      NaN  Kerin O’Keefe          @kerinokeefe   \n",
              "129962      NaN  Kerin O’Keefe          @kerinokeefe   \n",
              "\n",
              "                                                    title       variety  \\\n",
              "0                       Nicosia 2013 Vulkà Bianco  (Etna)   White Blend   \n",
              "6        Terre di Giurfo 2013 Belsito Frappato (Vittoria)      Frappato   \n",
              "...                                                   ...           ...   \n",
              "129961                        COS 2013 Frappato (Sicilia)      Frappato   \n",
              "129962  Cusumano 2012 Sàgana Tenuta San Giacomo Nero d...  Nero d'Avola   \n",
              "\n",
              "                 winery  \n",
              "0               Nicosia  \n",
              "6       Terre di Giurfo  \n",
              "...                 ...  \n",
              "129961              COS  \n",
              "129962         Cusumano  \n",
              "\n",
              "[19540 rows x 13 columns]"
            ],
            "text/html": "<div>\n<style scoped>\n    .dataframe tbody tr th:only-of-type {\n        vertical-align: middle;\n    }\n\n    .dataframe tbody tr th {\n        vertical-align: top;\n    }\n\n    .dataframe thead th {\n        text-align: right;\n    }\n</style>\n<table border=\"1\" class=\"dataframe\">\n  <thead>\n    <tr style=\"text-align: right;\">\n      <th></th>\n      <th>country</th>\n      <th>description</th>\n      <th>designation</th>\n      <th>points</th>\n      <th>price</th>\n      <th>province</th>\n      <th>region_1</th>\n      <th>region_2</th>\n      <th>taster_name</th>\n      <th>taster_twitter_handle</th>\n      <th>title</th>\n      <th>variety</th>\n      <th>winery</th>\n    </tr>\n  </thead>\n  <tbody>\n    <tr>\n      <th>0</th>\n      <td>Italy</td>\n      <td>Aromas include tropical fruit, broom, brimston...</td>\n      <td>Vulkà Bianco</td>\n      <td>87</td>\n      <td>NaN</td>\n      <td>Sicily &amp; Sardinia</td>\n      <td>Etna</td>\n      <td>NaN</td>\n      <td>Kerin O’Keefe</td>\n      <td>@kerinokeefe</td>\n      <td>Nicosia 2013 Vulkà Bianco  (Etna)</td>\n      <td>White Blend</td>\n      <td>Nicosia</td>\n    </tr>\n    <tr>\n      <th>6</th>\n      <td>Italy</td>\n      <td>Here's a bright, informal red that opens with ...</td>\n      <td>Belsito</td>\n      <td>87</td>\n      <td>16.0</td>\n      <td>Sicily &amp; Sardinia</td>\n      <td>Vittoria</td>\n      <td>NaN</td>\n      <td>Kerin O’Keefe</td>\n      <td>@kerinokeefe</td>\n      <td>Terre di Giurfo 2013 Belsito Frappato (Vittoria)</td>\n      <td>Frappato</td>\n      <td>Terre di Giurfo</td>\n    </tr>\n    <tr>\n      <th>...</th>\n      <td>...</td>\n      <td>...</td>\n      <td>...</td>\n      <td>...</td>\n      <td>...</td>\n      <td>...</td>\n      <td>...</td>\n      <td>...</td>\n      <td>...</td>\n      <td>...</td>\n      <td>...</td>\n      <td>...</td>\n      <td>...</td>\n    </tr>\n    <tr>\n      <th>129961</th>\n      <td>Italy</td>\n      <td>Intense aromas of wild cherry, baking spice, t...</td>\n      <td>NaN</td>\n      <td>90</td>\n      <td>30.0</td>\n      <td>Sicily &amp; Sardinia</td>\n      <td>Sicilia</td>\n      <td>NaN</td>\n      <td>Kerin O’Keefe</td>\n      <td>@kerinokeefe</td>\n      <td>COS 2013 Frappato (Sicilia)</td>\n      <td>Frappato</td>\n      <td>COS</td>\n    </tr>\n    <tr>\n      <th>129962</th>\n      <td>Italy</td>\n      <td>Blackberry, cassis, grilled herb and toasted a...</td>\n      <td>Sàgana Tenuta San Giacomo</td>\n      <td>90</td>\n      <td>40.0</td>\n      <td>Sicily &amp; Sardinia</td>\n      <td>Sicilia</td>\n      <td>NaN</td>\n      <td>Kerin O’Keefe</td>\n      <td>@kerinokeefe</td>\n      <td>Cusumano 2012 Sàgana Tenuta San Giacomo Nero d...</td>\n      <td>Nero d'Avola</td>\n      <td>Cusumano</td>\n    </tr>\n  </tbody>\n</table>\n<p>19540 rows × 13 columns</p>\n</div>"
          },
          "metadata": {},
          "execution_count": 10
        }
      ]
    },
    {
      "cell_type": "markdown",
      "metadata": {
        "id": "hIQkkhvm5X3s"
      },
      "source": [
        "###9. Create a DataFrame `top_oceania_wines` containing all reviews with at least 95 points (out of 100) for wines from Australia or New Zealand."
      ]
    },
    {
      "cell_type": "code",
      "metadata": {
        "colab": {
          "base_uri": "https://localhost:8080/",
          "height": 375
        },
        "id": "XP6nd_V75dKw",
        "outputId": "3c05a1f1-f97d-45c3-d76a-1f2358e98b2f"
      },
      "source": [
        "top_oceania_wines = reviews.loc[\r\n",
        "  (reviews.country.isin(['Australia','New Zealand'])) &\r\n",
        "  (reviews.points >= 95)]\r\n",
        "top_oceania_wines"
      ],
      "execution_count": 11,
      "outputs": [
        {
          "output_type": "execute_result",
          "data": {
            "text/plain": [
              "            country                                        description  \\\n",
              "345       Australia  This wine contains some material over 100 year...   \n",
              "346       Australia  This deep brown wine smells like a damp, mossy...   \n",
              "...             ...                                                ...   \n",
              "122507  New Zealand  This blend of Cabernet Sauvignon (62.5%), Merl...   \n",
              "122939    Australia  Full-bodied and plush yet vibrant and imbued w...   \n",
              "\n",
              "                                  designation  points  price         province  \\\n",
              "345                                      Rare     100  350.0         Victoria   \n",
              "346                                      Rare      98  350.0         Victoria   \n",
              "...                                       ...     ...    ...              ...   \n",
              "122507  SQM Gimblett Gravels Cabernets/Merlot      95   79.0      Hawke's Bay   \n",
              "122939                             The Factor      98  125.0  South Australia   \n",
              "\n",
              "              region_1 region_2     taster_name taster_twitter_handle  \\\n",
              "345         Rutherglen      NaN  Joe Czerwinski                @JoeCz   \n",
              "346         Rutherglen      NaN  Joe Czerwinski                @JoeCz   \n",
              "...                ...      ...             ...                   ...   \n",
              "122507             NaN      NaN  Joe Czerwinski                @JoeCz   \n",
              "122939  Barossa Valley      NaN  Joe Czerwinski                @JoeCz   \n",
              "\n",
              "                                                    title  \\\n",
              "345     Chambers Rosewood Vineyards NV Rare Muscat (Ru...   \n",
              "346     Chambers Rosewood Vineyards NV Rare Muscadelle...   \n",
              "...                                                   ...   \n",
              "122507  Squawking Magpie 2014 SQM Gimblett Gravels Cab...   \n",
              "122939   Torbreck 2013 The Factor Shiraz (Barossa Valley)   \n",
              "\n",
              "                         variety                       winery  \n",
              "345                       Muscat  Chambers Rosewood Vineyards  \n",
              "346                   Muscadelle  Chambers Rosewood Vineyards  \n",
              "...                          ...                          ...  \n",
              "122507  Bordeaux-style Red Blend             Squawking Magpie  \n",
              "122939                    Shiraz                     Torbreck  \n",
              "\n",
              "[49 rows x 13 columns]"
            ],
            "text/html": "<div>\n<style scoped>\n    .dataframe tbody tr th:only-of-type {\n        vertical-align: middle;\n    }\n\n    .dataframe tbody tr th {\n        vertical-align: top;\n    }\n\n    .dataframe thead th {\n        text-align: right;\n    }\n</style>\n<table border=\"1\" class=\"dataframe\">\n  <thead>\n    <tr style=\"text-align: right;\">\n      <th></th>\n      <th>country</th>\n      <th>description</th>\n      <th>designation</th>\n      <th>points</th>\n      <th>price</th>\n      <th>province</th>\n      <th>region_1</th>\n      <th>region_2</th>\n      <th>taster_name</th>\n      <th>taster_twitter_handle</th>\n      <th>title</th>\n      <th>variety</th>\n      <th>winery</th>\n    </tr>\n  </thead>\n  <tbody>\n    <tr>\n      <th>345</th>\n      <td>Australia</td>\n      <td>This wine contains some material over 100 year...</td>\n      <td>Rare</td>\n      <td>100</td>\n      <td>350.0</td>\n      <td>Victoria</td>\n      <td>Rutherglen</td>\n      <td>NaN</td>\n      <td>Joe Czerwinski</td>\n      <td>@JoeCz</td>\n      <td>Chambers Rosewood Vineyards NV Rare Muscat (Ru...</td>\n      <td>Muscat</td>\n      <td>Chambers Rosewood Vineyards</td>\n    </tr>\n    <tr>\n      <th>346</th>\n      <td>Australia</td>\n      <td>This deep brown wine smells like a damp, mossy...</td>\n      <td>Rare</td>\n      <td>98</td>\n      <td>350.0</td>\n      <td>Victoria</td>\n      <td>Rutherglen</td>\n      <td>NaN</td>\n      <td>Joe Czerwinski</td>\n      <td>@JoeCz</td>\n      <td>Chambers Rosewood Vineyards NV Rare Muscadelle...</td>\n      <td>Muscadelle</td>\n      <td>Chambers Rosewood Vineyards</td>\n    </tr>\n    <tr>\n      <th>...</th>\n      <td>...</td>\n      <td>...</td>\n      <td>...</td>\n      <td>...</td>\n      <td>...</td>\n      <td>...</td>\n      <td>...</td>\n      <td>...</td>\n      <td>...</td>\n      <td>...</td>\n      <td>...</td>\n      <td>...</td>\n      <td>...</td>\n    </tr>\n    <tr>\n      <th>122507</th>\n      <td>New Zealand</td>\n      <td>This blend of Cabernet Sauvignon (62.5%), Merl...</td>\n      <td>SQM Gimblett Gravels Cabernets/Merlot</td>\n      <td>95</td>\n      <td>79.0</td>\n      <td>Hawke's Bay</td>\n      <td>NaN</td>\n      <td>NaN</td>\n      <td>Joe Czerwinski</td>\n      <td>@JoeCz</td>\n      <td>Squawking Magpie 2014 SQM Gimblett Gravels Cab...</td>\n      <td>Bordeaux-style Red Blend</td>\n      <td>Squawking Magpie</td>\n    </tr>\n    <tr>\n      <th>122939</th>\n      <td>Australia</td>\n      <td>Full-bodied and plush yet vibrant and imbued w...</td>\n      <td>The Factor</td>\n      <td>98</td>\n      <td>125.0</td>\n      <td>South Australia</td>\n      <td>Barossa Valley</td>\n      <td>NaN</td>\n      <td>Joe Czerwinski</td>\n      <td>@JoeCz</td>\n      <td>Torbreck 2013 The Factor Shiraz (Barossa Valley)</td>\n      <td>Shiraz</td>\n      <td>Torbreck</td>\n    </tr>\n  </tbody>\n</table>\n<p>49 rows × 13 columns</p>\n</div>"
          },
          "metadata": {},
          "execution_count": 11
        }
      ]
    },
    {
      "cell_type": "markdown",
      "metadata": {
        "id": "mWJM_0kN8FCg"
      },
      "source": [
        "#2. Summary Functions"
      ]
    },
    {
      "cell_type": "markdown",
      "metadata": {
        "id": "e4M17cO58NEk"
      },
      "source": [
        "##Introduction"
      ]
    },
    {
      "cell_type": "code",
      "metadata": {
        "colab": {
          "base_uri": "https://localhost:8080/",
          "height": 345
        },
        "id": "VuFtU7E28Mjw",
        "outputId": "05917541-06b5-46c9-c65c-83fef7598a4d"
      },
      "source": [
        "import pandas as pd\r\n",
        "\r\n",
        "pd.set_option(\"display.max_rows\", 5)\r\n",
        "reviews = pd.read_csv(\"https://raw.githubusercontent.com/ltdaovn/dataset/master/wine-reviews/winemag-data-130k-v2.csv\", index_col=0)\r\n",
        "reviews.head()"
      ],
      "execution_count": 12,
      "outputs": [
        {
          "output_type": "execute_result",
          "data": {
            "text/plain": [
              "    country                                        description  \\\n",
              "0     Italy  Aromas include tropical fruit, broom, brimston...   \n",
              "1  Portugal  This is ripe and fruity, a wine that is smooth...   \n",
              "2        US  Tart and snappy, the flavors of lime flesh and...   \n",
              "3        US  Pineapple rind, lemon pith and orange blossom ...   \n",
              "4        US  Much like the regular bottling from 2012, this...   \n",
              "\n",
              "                          designation  points  price           province  \\\n",
              "0                        Vulkà Bianco      87    NaN  Sicily & Sardinia   \n",
              "1                            Avidagos      87   15.0              Douro   \n",
              "2                                 NaN      87   14.0             Oregon   \n",
              "3                Reserve Late Harvest      87   13.0           Michigan   \n",
              "4  Vintner's Reserve Wild Child Block      87   65.0             Oregon   \n",
              "\n",
              "              region_1           region_2         taster_name  \\\n",
              "0                 Etna                NaN       Kerin O’Keefe   \n",
              "1                  NaN                NaN          Roger Voss   \n",
              "2    Willamette Valley  Willamette Valley        Paul Gregutt   \n",
              "3  Lake Michigan Shore                NaN  Alexander Peartree   \n",
              "4    Willamette Valley  Willamette Valley        Paul Gregutt   \n",
              "\n",
              "  taster_twitter_handle                                              title  \\\n",
              "0          @kerinokeefe                  Nicosia 2013 Vulkà Bianco  (Etna)   \n",
              "1            @vossroger      Quinta dos Avidagos 2011 Avidagos Red (Douro)   \n",
              "2           @paulgwine       Rainstorm 2013 Pinot Gris (Willamette Valley)   \n",
              "3                   NaN  St. Julian 2013 Reserve Late Harvest Riesling ...   \n",
              "4           @paulgwine   Sweet Cheeks 2012 Vintner's Reserve Wild Child...   \n",
              "\n",
              "          variety               winery  \n",
              "0     White Blend              Nicosia  \n",
              "1  Portuguese Red  Quinta dos Avidagos  \n",
              "2      Pinot Gris            Rainstorm  \n",
              "3        Riesling           St. Julian  \n",
              "4      Pinot Noir         Sweet Cheeks  "
            ],
            "text/html": "<div>\n<style scoped>\n    .dataframe tbody tr th:only-of-type {\n        vertical-align: middle;\n    }\n\n    .dataframe tbody tr th {\n        vertical-align: top;\n    }\n\n    .dataframe thead th {\n        text-align: right;\n    }\n</style>\n<table border=\"1\" class=\"dataframe\">\n  <thead>\n    <tr style=\"text-align: right;\">\n      <th></th>\n      <th>country</th>\n      <th>description</th>\n      <th>designation</th>\n      <th>points</th>\n      <th>price</th>\n      <th>province</th>\n      <th>region_1</th>\n      <th>region_2</th>\n      <th>taster_name</th>\n      <th>taster_twitter_handle</th>\n      <th>title</th>\n      <th>variety</th>\n      <th>winery</th>\n    </tr>\n  </thead>\n  <tbody>\n    <tr>\n      <th>0</th>\n      <td>Italy</td>\n      <td>Aromas include tropical fruit, broom, brimston...</td>\n      <td>Vulkà Bianco</td>\n      <td>87</td>\n      <td>NaN</td>\n      <td>Sicily &amp; Sardinia</td>\n      <td>Etna</td>\n      <td>NaN</td>\n      <td>Kerin O’Keefe</td>\n      <td>@kerinokeefe</td>\n      <td>Nicosia 2013 Vulkà Bianco  (Etna)</td>\n      <td>White Blend</td>\n      <td>Nicosia</td>\n    </tr>\n    <tr>\n      <th>1</th>\n      <td>Portugal</td>\n      <td>This is ripe and fruity, a wine that is smooth...</td>\n      <td>Avidagos</td>\n      <td>87</td>\n      <td>15.0</td>\n      <td>Douro</td>\n      <td>NaN</td>\n      <td>NaN</td>\n      <td>Roger Voss</td>\n      <td>@vossroger</td>\n      <td>Quinta dos Avidagos 2011 Avidagos Red (Douro)</td>\n      <td>Portuguese Red</td>\n      <td>Quinta dos Avidagos</td>\n    </tr>\n    <tr>\n      <th>2</th>\n      <td>US</td>\n      <td>Tart and snappy, the flavors of lime flesh and...</td>\n      <td>NaN</td>\n      <td>87</td>\n      <td>14.0</td>\n      <td>Oregon</td>\n      <td>Willamette Valley</td>\n      <td>Willamette Valley</td>\n      <td>Paul Gregutt</td>\n      <td>@paulgwine</td>\n      <td>Rainstorm 2013 Pinot Gris (Willamette Valley)</td>\n      <td>Pinot Gris</td>\n      <td>Rainstorm</td>\n    </tr>\n    <tr>\n      <th>3</th>\n      <td>US</td>\n      <td>Pineapple rind, lemon pith and orange blossom ...</td>\n      <td>Reserve Late Harvest</td>\n      <td>87</td>\n      <td>13.0</td>\n      <td>Michigan</td>\n      <td>Lake Michigan Shore</td>\n      <td>NaN</td>\n      <td>Alexander Peartree</td>\n      <td>NaN</td>\n      <td>St. Julian 2013 Reserve Late Harvest Riesling ...</td>\n      <td>Riesling</td>\n      <td>St. Julian</td>\n    </tr>\n    <tr>\n      <th>4</th>\n      <td>US</td>\n      <td>Much like the regular bottling from 2012, this...</td>\n      <td>Vintner's Reserve Wild Child Block</td>\n      <td>87</td>\n      <td>65.0</td>\n      <td>Oregon</td>\n      <td>Willamette Valley</td>\n      <td>Willamette Valley</td>\n      <td>Paul Gregutt</td>\n      <td>@paulgwine</td>\n      <td>Sweet Cheeks 2012 Vintner's Reserve Wild Child...</td>\n      <td>Pinot Noir</td>\n      <td>Sweet Cheeks</td>\n    </tr>\n  </tbody>\n</table>\n</div>"
          },
          "metadata": {},
          "execution_count": 12
        }
      ]
    },
    {
      "cell_type": "markdown",
      "metadata": {
        "id": "YvMscBNP9vwM"
      },
      "source": [
        "##Exercises"
      ]
    },
    {
      "cell_type": "markdown",
      "metadata": {
        "id": "6HqHhB2Z9xN8"
      },
      "source": [
        "###1. What is the median of the `points` column in the `reviews` DataFrame?"
      ]
    },
    {
      "cell_type": "code",
      "metadata": {
        "colab": {
          "base_uri": "https://localhost:8080/"
        },
        "id": "3tQh2Es795a8",
        "outputId": "beffd55c-14ac-42d4-9aa8-c7269ee5c3f0"
      },
      "source": [
        "median_points = reviews.points.median()\r\n",
        "median_points"
      ],
      "execution_count": 13,
      "outputs": [
        {
          "output_type": "execute_result",
          "data": {
            "text/plain": [
              "88.0"
            ]
          },
          "metadata": {},
          "execution_count": 13
        }
      ]
    },
    {
      "cell_type": "markdown",
      "metadata": {
        "id": "yeImCW2n-MH0"
      },
      "source": [
        "###2. What countries are represented in the dataset? (Your answer should not include any duplicates.)"
      ]
    },
    {
      "cell_type": "code",
      "metadata": {
        "colab": {
          "base_uri": "https://localhost:8080/"
        },
        "id": "qtngwjSR-RTE",
        "outputId": "b004bf57-2a13-486e-ec3e-0eb3f7a8be49"
      },
      "source": [
        "countries = reviews.country.unique()\r\n",
        "countries"
      ],
      "execution_count": 14,
      "outputs": [
        {
          "output_type": "execute_result",
          "data": {
            "text/plain": [
              "array(['Italy', 'Portugal', 'US', 'Spain', 'France', 'Germany',\n",
              "       'Argentina', 'Chile', 'Australia', 'Austria', 'South Africa',\n",
              "       'New Zealand', 'Israel', 'Hungary', 'Greece', 'Romania', 'Mexico',\n",
              "       'Canada', nan, 'Turkey', 'Czech Republic', 'Slovenia',\n",
              "       'Luxembourg', 'Croatia', 'Georgia', 'Uruguay', 'England',\n",
              "       'Lebanon', 'Serbia', 'Brazil', 'Moldova', 'Morocco', 'Peru',\n",
              "       'India', 'Bulgaria', 'Cyprus', 'Armenia', 'Switzerland',\n",
              "       'Bosnia and Herzegovina', 'Ukraine', 'Slovakia', 'Macedonia',\n",
              "       'China', 'Egypt'], dtype=object)"
            ]
          },
          "metadata": {},
          "execution_count": 14
        }
      ]
    },
    {
      "cell_type": "markdown",
      "metadata": {
        "id": "o05Bh7ch-VQM"
      },
      "source": [
        "###3. How often does each country appear in the dataset? Create a Series `reviews_per_country` mapping countries to the count of reviews of winesfrom that country."
      ]
    },
    {
      "cell_type": "code",
      "metadata": {
        "colab": {
          "base_uri": "https://localhost:8080/"
        },
        "id": "uTY2nXUY-X9o",
        "outputId": "aecddc1a-6f65-42bd-d2e5-7fc5a45781e4"
      },
      "source": [
        "reviews_per_country = reviews.country.value_counts()\r\n",
        "reviews_per_country"
      ],
      "execution_count": 15,
      "outputs": [
        {
          "output_type": "execute_result",
          "data": {
            "text/plain": [
              "US          54504\n",
              "France      22093\n",
              "            ...  \n",
              "Slovakia        1\n",
              "China           1\n",
              "Name: country, Length: 43, dtype: int64"
            ]
          },
          "metadata": {},
          "execution_count": 15
        }
      ]
    },
    {
      "cell_type": "markdown",
      "metadata": {
        "id": "kQ5t8ehO-fs8"
      },
      "source": [
        "###4. Create variable `centered_price` containing a version of the price column with the mean price subtracted."
      ]
    },
    {
      "cell_type": "code",
      "metadata": {
        "colab": {
          "base_uri": "https://localhost:8080/"
        },
        "id": "effwueWG-nMo",
        "outputId": "f8a557c1-39b1-437f-8c32-8baa5a8aa066"
      },
      "source": [
        "centered_price = reviews.price - reviews.price.mean()\r\n",
        "centered_price"
      ],
      "execution_count": 16,
      "outputs": [
        {
          "output_type": "execute_result",
          "data": {
            "text/plain": [
              "0               NaN\n",
              "1        -20.363389\n",
              "            ...    \n",
              "129969    -3.363389\n",
              "129970   -14.363389\n",
              "Name: price, Length: 129971, dtype: float64"
            ]
          },
          "metadata": {},
          "execution_count": 16
        }
      ]
    },
    {
      "cell_type": "markdown",
      "metadata": {
        "id": "8F0tIxIx-myE"
      },
      "source": [
        "###5. I'm an economical wine buyer. Which wine is the \"best bargain\"? Create a variable `bargain_wine` with the title of the wine with the highestpoints-to-price ratio in the dataset."
      ]
    },
    {
      "cell_type": "code",
      "metadata": {
        "colab": {
          "base_uri": "https://localhost:8080/"
        },
        "id": "gWEFrjt4-y5E",
        "outputId": "97ac5067-3d70-4142-98b3-3bbc5c57ac22"
      },
      "source": [
        "bargain_idx = (reviews.points / reviews.price).idxmax()\r\n",
        "bargain_wine = reviews.loc[bargain_idx, 'title']\r\n",
        "bargain_wine"
      ],
      "execution_count": 17,
      "outputs": [
        {
          "output_type": "execute_result",
          "data": {
            "text/plain": [
              "'Bandit NV Merlot (California)'"
            ]
          },
          "metadata": {},
          "execution_count": 17
        }
      ]
    },
    {
      "cell_type": "markdown",
      "metadata": {
        "id": "vJ7Nnhm-_LA0"
      },
      "source": [
        "###6. There are only so many words you can use when describing a bottle of wine. Is a wine more likely to be \"tropical\" or \"fruity\"? Create a Series `descriptor_counts` counting how many times each of these two words appears in the `description` column in the dataset."
      ]
    },
    {
      "cell_type": "code",
      "metadata": {
        "colab": {
          "base_uri": "https://localhost:8080/"
        },
        "id": "3OiAa7L3_ARU",
        "outputId": "7304d0da-b637-491f-aa85-98cbef4dbfbe"
      },
      "source": [
        "n_trop = reviews.description.map(lambda desc: \"tropical\" in desc).sum()\r\n",
        "n_fruity = reviews.description.map(lambda desc: \"fruity\" in desc).sum()\r\n",
        "descriptor_counts = pd.Series([n_trop, n_fruity], index=['tropical', 'fruity'])\r\n",
        "descriptor_counts"
      ],
      "execution_count": 18,
      "outputs": [
        {
          "output_type": "execute_result",
          "data": {
            "text/plain": [
              "tropical    3607\n",
              "fruity      9090\n",
              "dtype: int64"
            ]
          },
          "metadata": {},
          "execution_count": 18
        }
      ]
    },
    {
      "cell_type": "markdown",
      "metadata": {
        "id": "Cizn9u5e_a-s"
      },
      "source": [
        "###7. Create a series `star_ratings` with the number of stars corresponding to each review in the dataset."
      ]
    },
    {
      "cell_type": "markdown",
      "metadata": {
        "id": "ROKGQBhg_4pI"
      },
      "source": [
        "We'd like to host these wine reviews on our website, but a rating system ranging from 80 to 100 points is too hard to understand - we'd like totranslate them into simple star ratings. A score of 95 or higher counts as 3 stars, a score of at least 85 but less than 95 is 2 stars. Any otherscore is 1 star.\r\n",
        "\r\n",
        "Also, the Canadian Vintners Association bought a lot of ads on the site, so any wines from Canada should automatically get 3 stars, regardlessof points. "
      ]
    },
    {
      "cell_type": "code",
      "metadata": {
        "colab": {
          "base_uri": "https://localhost:8080/"
        },
        "id": "VVcdq3Wv__Iw",
        "outputId": "68e94a35-51ae-43a3-b94c-b2b1d7f5b40d"
      },
      "source": [
        "def stars(row):\r\n",
        "  if row.country == 'Canada':\r\n",
        "    return 3\r\n",
        "  elif row.points >= 95:\r\n",
        "    return 3\r\n",
        "  elif row.points >= 85:\r\n",
        "    return 2\r\n",
        "  else:\r\n",
        "    return 1\r\n",
        "\r\n",
        "star_ratings = reviews.apply(stars, axis='columns')\r\n",
        "star_ratings"
      ],
      "execution_count": 19,
      "outputs": [
        {
          "output_type": "execute_result",
          "data": {
            "text/plain": [
              "0         2\n",
              "1         2\n",
              "         ..\n",
              "129969    2\n",
              "129970    2\n",
              "Length: 129971, dtype: int64"
            ]
          },
          "metadata": {},
          "execution_count": 19
        }
      ]
    },
    {
      "cell_type": "markdown",
      "metadata": {
        "id": "i3AUIFNfAkcQ"
      },
      "source": [
        "#3. Grouping and Sorting"
      ]
    },
    {
      "cell_type": "markdown",
      "metadata": {
        "id": "SPMny0iDApM8"
      },
      "source": [
        "##Introduction"
      ]
    },
    {
      "cell_type": "code",
      "metadata": {
        "colab": {
          "base_uri": "https://localhost:8080/"
        },
        "id": "KP8i9APpA84U",
        "outputId": "8a968cb3-ff87-4491-f099-c18e3689d52a"
      },
      "source": [
        "import pandas as pd\r\n",
        "\r\n",
        "reviews = pd.read_csv(\"https://raw.githubusercontent.com/ltdaovn/dataset/master/wine-reviews/winemag-data-130k-v2.csv\", index_col=0)\r\n",
        "#pd.set_option(\"display.max_rows\", 5)\r\n",
        "print(\"Setup complete.\")"
      ],
      "execution_count": 20,
      "outputs": [
        {
          "output_type": "stream",
          "name": "stdout",
          "text": [
            "Setup complete.\n"
          ]
        }
      ]
    },
    {
      "cell_type": "markdown",
      "metadata": {
        "id": "96Dz0BGIBSgs"
      },
      "source": [
        "##Exercises"
      ]
    },
    {
      "cell_type": "markdown",
      "metadata": {
        "id": "ZPh1G6_cBVcM"
      },
      "source": [
        "###1. Who are the most common wine reviewers in the dataset? Create a `Series` whose index is the `taster_twitter_handle` category from thedataset, and whose values count how many reviews each person wrote."
      ]
    },
    {
      "cell_type": "code",
      "metadata": {
        "colab": {
          "base_uri": "https://localhost:8080/"
        },
        "id": "sSVBmLoOBSJQ",
        "outputId": "0748132a-f44c-4c06-846c-5480dc6765ae"
      },
      "source": [
        "reviews_written = reviews.groupby('taster_twitter_handle').taster_twitter_handle.count()\r\n",
        "reviews_written"
      ],
      "execution_count": 21,
      "outputs": [
        {
          "output_type": "execute_result",
          "data": {
            "text/plain": [
              "taster_twitter_handle\n",
              "@AnneInVino        3685\n",
              "@JoeCz             5147\n",
              "                   ... \n",
              "@winewchristina       6\n",
              "@worldwineguys     1005\n",
              "Name: taster_twitter_handle, Length: 15, dtype: int64"
            ]
          },
          "metadata": {},
          "execution_count": 21
        }
      ]
    },
    {
      "cell_type": "markdown",
      "metadata": {
        "id": "tNp_GlOFBvzs"
      },
      "source": [
        "###2. What is the best wine I can buy for a given amount of money? Create a `Series` whose index is wine prices and whose values is the maximumnumber of points a wine costing that much was given in a review. Sort the values by price, ascending (so that `4.0` dollars is at the top and `33300.0` dollars is at the bottom)."
      ]
    },
    {
      "cell_type": "code",
      "metadata": {
        "colab": {
          "base_uri": "https://localhost:8080/"
        },
        "id": "zxuUNey2B9aA",
        "outputId": "06a88605-4d76-4aa6-b4f4-b03d6f971255"
      },
      "source": [
        "best_rating_per_price = reviews.groupby('price')['points'].max().sort_index()\r\n",
        "best_rating_per_price"
      ],
      "execution_count": 22,
      "outputs": [
        {
          "output_type": "execute_result",
          "data": {
            "text/plain": [
              "price\n",
              "4.0       86\n",
              "5.0       87\n",
              "          ..\n",
              "2500.0    96\n",
              "3300.0    88\n",
              "Name: points, Length: 390, dtype: int64"
            ]
          },
          "metadata": {},
          "execution_count": 22
        }
      ]
    },
    {
      "cell_type": "markdown",
      "metadata": {
        "id": "lX7LWy_ICCaU"
      },
      "source": [
        "###3. What are the minimum and maximum prices for each `variety` of wine? Create a `DataFrame` whose index is the `variety` category from thedataset and whose values are the `min` and `max` values thereof."
      ]
    },
    {
      "cell_type": "code",
      "metadata": {
        "colab": {
          "base_uri": "https://localhost:8080/",
          "height": 267
        },
        "id": "Ea5nBbraCKyQ",
        "outputId": "c8b209f7-6fc4-4587-940b-38589445efc2"
      },
      "source": [
        "price_extremes = reviews.groupby(['variety']).price.agg([min, max])\r\n",
        "price_extremes"
      ],
      "execution_count": 23,
      "outputs": [
        {
          "output_type": "execute_result",
          "data": {
            "text/plain": [
              "              min   max\n",
              "variety                \n",
              "Abouriou     15.0  75.0\n",
              "Agiorgitiko  10.0  66.0\n",
              "...           ...   ...\n",
              "Çalkarası    19.0  19.0\n",
              "Žilavka      15.0  15.0\n",
              "\n",
              "[707 rows x 2 columns]"
            ],
            "text/html": "<div>\n<style scoped>\n    .dataframe tbody tr th:only-of-type {\n        vertical-align: middle;\n    }\n\n    .dataframe tbody tr th {\n        vertical-align: top;\n    }\n\n    .dataframe thead th {\n        text-align: right;\n    }\n</style>\n<table border=\"1\" class=\"dataframe\">\n  <thead>\n    <tr style=\"text-align: right;\">\n      <th></th>\n      <th>min</th>\n      <th>max</th>\n    </tr>\n    <tr>\n      <th>variety</th>\n      <th></th>\n      <th></th>\n    </tr>\n  </thead>\n  <tbody>\n    <tr>\n      <th>Abouriou</th>\n      <td>15.0</td>\n      <td>75.0</td>\n    </tr>\n    <tr>\n      <th>Agiorgitiko</th>\n      <td>10.0</td>\n      <td>66.0</td>\n    </tr>\n    <tr>\n      <th>...</th>\n      <td>...</td>\n      <td>...</td>\n    </tr>\n    <tr>\n      <th>Çalkarası</th>\n      <td>19.0</td>\n      <td>19.0</td>\n    </tr>\n    <tr>\n      <th>Žilavka</th>\n      <td>15.0</td>\n      <td>15.0</td>\n    </tr>\n  </tbody>\n</table>\n<p>707 rows × 2 columns</p>\n</div>"
          },
          "metadata": {},
          "execution_count": 23
        }
      ]
    },
    {
      "cell_type": "markdown",
      "metadata": {
        "id": "T5CeCPfzCb_0"
      },
      "source": [
        "###4. What are the most expensive wine varieties? Create a variable `sorted_varieties` containing a copy of the dataframe from the previousquestion where varieties are sorted in descending order based on minimum price, then on maximum price (to break ties)."
      ]
    },
    {
      "cell_type": "code",
      "metadata": {
        "colab": {
          "base_uri": "https://localhost:8080/",
          "height": 267
        },
        "id": "EnY-zdQZChwk",
        "outputId": "7a608d62-7e92-4a82-d051-096471b2ec04"
      },
      "source": [
        "sorted_varieties = price_extremes.sort_values(by=['min', 'max'], ascending=False)\r\n",
        "sorted_varieties"
      ],
      "execution_count": 24,
      "outputs": [
        {
          "output_type": "execute_result",
          "data": {
            "text/plain": [
              "             min    max\n",
              "variety                \n",
              "Ramisco    495.0  495.0\n",
              "Terrantez  236.0  236.0\n",
              "...          ...    ...\n",
              "Vital        NaN    NaN\n",
              "Zelen        NaN    NaN\n",
              "\n",
              "[707 rows x 2 columns]"
            ],
            "text/html": "<div>\n<style scoped>\n    .dataframe tbody tr th:only-of-type {\n        vertical-align: middle;\n    }\n\n    .dataframe tbody tr th {\n        vertical-align: top;\n    }\n\n    .dataframe thead th {\n        text-align: right;\n    }\n</style>\n<table border=\"1\" class=\"dataframe\">\n  <thead>\n    <tr style=\"text-align: right;\">\n      <th></th>\n      <th>min</th>\n      <th>max</th>\n    </tr>\n    <tr>\n      <th>variety</th>\n      <th></th>\n      <th></th>\n    </tr>\n  </thead>\n  <tbody>\n    <tr>\n      <th>Ramisco</th>\n      <td>495.0</td>\n      <td>495.0</td>\n    </tr>\n    <tr>\n      <th>Terrantez</th>\n      <td>236.0</td>\n      <td>236.0</td>\n    </tr>\n    <tr>\n      <th>...</th>\n      <td>...</td>\n      <td>...</td>\n    </tr>\n    <tr>\n      <th>Vital</th>\n      <td>NaN</td>\n      <td>NaN</td>\n    </tr>\n    <tr>\n      <th>Zelen</th>\n      <td>NaN</td>\n      <td>NaN</td>\n    </tr>\n  </tbody>\n</table>\n<p>707 rows × 2 columns</p>\n</div>"
          },
          "metadata": {},
          "execution_count": 24
        }
      ]
    },
    {
      "cell_type": "markdown",
      "metadata": {
        "id": "n-c0daHYCmIQ"
      },
      "source": [
        "###5. Create a `Series` whose index is reviewers and whose values is the average review score given out by that reviewer. Hint: you will need the `taster_name` and `points` columns."
      ]
    },
    {
      "cell_type": "code",
      "metadata": {
        "colab": {
          "base_uri": "https://localhost:8080/"
        },
        "id": "EwzGpp2wCvzA",
        "outputId": "6b8ccc06-5a64-4b6a-bf98-7e7f804ee755"
      },
      "source": [
        "reviewer_mean_ratings = reviews.groupby('taster_name').points.mean().sort_values(0, ascending=False)\r\n",
        "reviewer_mean_ratings"
      ],
      "execution_count": 25,
      "outputs": [
        {
          "output_type": "execute_result",
          "data": {
            "text/plain": [
              "taster_name\n",
              "Anne Krebiehl MW      90.562551\n",
              "Matt Kettmann         90.008686\n",
              "                        ...    \n",
              "Carrie Dykes          86.395683\n",
              "Alexander Peartree    85.855422\n",
              "Name: points, Length: 19, dtype: float64"
            ]
          },
          "metadata": {},
          "execution_count": 25
        }
      ]
    },
    {
      "cell_type": "markdown",
      "metadata": {
        "id": "YaZIJYrFDAkc"
      },
      "source": [
        "Are there significant differences in the average scores assigned by the various reviewers?"
      ]
    },
    {
      "cell_type": "code",
      "metadata": {
        "colab": {
          "base_uri": "https://localhost:8080/"
        },
        "id": "I17jzXnfC21A",
        "outputId": "c5b4a49c-bc6a-4681-ab48-e900e16761c5"
      },
      "source": [
        "reviewer_mean_ratings.describe()"
      ],
      "execution_count": 26,
      "outputs": [
        {
          "output_type": "execute_result",
          "data": {
            "text/plain": [
              "count    19.000000\n",
              "mean     88.233026\n",
              "           ...    \n",
              "75%      88.975256\n",
              "max      90.562551\n",
              "Name: points, Length: 8, dtype: float64"
            ]
          },
          "metadata": {},
          "execution_count": 26
        }
      ]
    },
    {
      "cell_type": "markdown",
      "metadata": {
        "id": "_U3J04amDJKc"
      },
      "source": [
        "###6. What combination of countries and varieties are most common? Create a `Series` whose index is a `MultiIndex` of `{country, variety}` pairs. For example, a pinot noir produced in the US should map to `{\"US\", \"Pinot Noir\"}`. Sort the values in the `Series` in descending order based onwine count."
      ]
    },
    {
      "cell_type": "code",
      "metadata": {
        "colab": {
          "base_uri": "https://localhost:8080/"
        },
        "id": "1C8F8fbaDXJw",
        "outputId": "2cd3b4bd-8d55-41f9-ef5f-8e8d0f27cb08"
      },
      "source": [
        "country_variety_counts = reviews.groupby(['country', 'variety']).size().sort_values(ascending=False)\r\n",
        "country_variety_counts"
      ],
      "execution_count": 27,
      "outputs": [
        {
          "output_type": "execute_result",
          "data": {
            "text/plain": [
              "country  variety           \n",
              "US       Pinot Noir            9885\n",
              "         Cabernet Sauvignon    7315\n",
              "                               ... \n",
              "Mexico   Rosado                   1\n",
              "Uruguay  White Blend              1\n",
              "Length: 1612, dtype: int64"
            ]
          },
          "metadata": {},
          "execution_count": 27
        }
      ]
    },
    {
      "cell_type": "markdown",
      "metadata": {
        "id": "9zQ-Su_AEeS4"
      },
      "source": [
        "#4. Data Types and Missing Values"
      ]
    },
    {
      "cell_type": "markdown",
      "metadata": {
        "id": "0xlEfrOKEdGU"
      },
      "source": [
        "##Introduction"
      ]
    },
    {
      "cell_type": "code",
      "metadata": {
        "colab": {
          "base_uri": "https://localhost:8080/"
        },
        "id": "2e7SLOQgEiiw",
        "outputId": "1d7e0269-a5d8-45bb-a723-47fd008ce3da"
      },
      "source": [
        "import pandas as pd\r\n",
        "\r\n",
        "reviews = pd.read_csv(\"https://raw.githubusercontent.com/ltdaovn/dataset/master/wine-reviews/winemag-data-130k-v2.csv\", index_col=0)\r\n",
        "print(\"Setup complete.\")"
      ],
      "execution_count": 28,
      "outputs": [
        {
          "output_type": "stream",
          "name": "stdout",
          "text": [
            "Setup complete.\n"
          ]
        }
      ]
    },
    {
      "cell_type": "markdown",
      "metadata": {
        "id": "h5Y6WvfIEts0"
      },
      "source": [
        "##Exercises"
      ]
    },
    {
      "cell_type": "markdown",
      "metadata": {
        "id": "Lr2SVFcvE0cE"
      },
      "source": [
        "###1. What is the data type of the `points` column in the dataset?"
      ]
    },
    {
      "cell_type": "code",
      "metadata": {
        "colab": {
          "base_uri": "https://localhost:8080/"
        },
        "id": "qcueQpwHE3Mo",
        "outputId": "c758fedc-18e8-4cf2-c91f-3963da784709"
      },
      "source": [
        "dtype = reviews.points.dtype\r\n",
        "dtype"
      ],
      "execution_count": 29,
      "outputs": [
        {
          "output_type": "execute_result",
          "data": {
            "text/plain": [
              "dtype('int64')"
            ]
          },
          "metadata": {},
          "execution_count": 29
        }
      ]
    },
    {
      "cell_type": "markdown",
      "metadata": {
        "id": "CcimyNepE8vU"
      },
      "source": [
        "###2. Create a Series from entries in the `points` column, but convert the entries to strings. Hint: strings are `str` in native Python."
      ]
    },
    {
      "cell_type": "code",
      "metadata": {
        "colab": {
          "base_uri": "https://localhost:8080/"
        },
        "id": "iaXzUm5PE8Uw",
        "outputId": "e71abe14-807f-4253-bbf8-bea872483159"
      },
      "source": [
        "point_strings = reviews.points.astype('str')\r\n",
        "point_strings"
      ],
      "execution_count": 30,
      "outputs": [
        {
          "output_type": "execute_result",
          "data": {
            "text/plain": [
              "0         87\n",
              "1         87\n",
              "          ..\n",
              "129969    90\n",
              "129970    90\n",
              "Name: points, Length: 129971, dtype: object"
            ]
          },
          "metadata": {},
          "execution_count": 30
        }
      ]
    },
    {
      "cell_type": "markdown",
      "metadata": {
        "id": "IUxsq6YEFGEM"
      },
      "source": [
        "###3. Sometimes the price column is null. How many reviews in the dataset are missing a price?"
      ]
    },
    {
      "cell_type": "code",
      "metadata": {
        "colab": {
          "base_uri": "https://localhost:8080/"
        },
        "id": "cvRJ-CKYFOds",
        "outputId": "7866aa47-f290-4861-98a7-ea8c13750419"
      },
      "source": [
        "n_missing_prices = reviews.price.isnull().sum()\r\n",
        "n_missing_prices"
      ],
      "execution_count": 31,
      "outputs": [
        {
          "output_type": "execute_result",
          "data": {
            "text/plain": [
              "8996"
            ]
          },
          "metadata": {},
          "execution_count": 31
        }
      ]
    },
    {
      "cell_type": "markdown",
      "metadata": {
        "id": "dBWP2L9SFVfs"
      },
      "source": [
        "###4. What are the most common wine-producing regions? Create a Series counting the number of times each value occurs in the `region_1` field."
      ]
    },
    {
      "cell_type": "code",
      "metadata": {
        "colab": {
          "base_uri": "https://localhost:8080/"
        },
        "id": "JmTsRoHgFhe4",
        "outputId": "3ae38b1f-9f9a-4ff8-9780-7c4242a3c866"
      },
      "source": [
        "reviews_per_region = reviews.region_1.fillna('Unknown').value_counts().sort_values(ascending=False)\r\n",
        "reviews_per_region"
      ],
      "execution_count": 32,
      "outputs": [
        {
          "output_type": "execute_result",
          "data": {
            "text/plain": [
              "Unknown                                     21247\n",
              "Napa Valley                                  4480\n",
              "                                            ...  \n",
              "Vin de Pays de la Haute Vallée du Gassac        1\n",
              "Maury Sec                                       1\n",
              "Name: region_1, Length: 1230, dtype: int64"
            ]
          },
          "metadata": {},
          "execution_count": 32
        }
      ]
    },
    {
      "cell_type": "markdown",
      "metadata": {
        "id": "ASr8zSCuGIZg"
      },
      "source": [
        "#5. Renaming and Combining"
      ]
    },
    {
      "cell_type": "markdown",
      "metadata": {
        "id": "j76hEJMJF6F4"
      },
      "source": [
        "##Introduction"
      ]
    },
    {
      "cell_type": "code",
      "metadata": {
        "colab": {
          "base_uri": "https://localhost:8080/"
        },
        "id": "Prb0tTEEGL10",
        "outputId": "ae52c0e3-b205-4d66-f754-1359ef9548c9"
      },
      "source": [
        "import pandas as pd\r\n",
        "\r\n",
        "reviews = pd.read_csv(\"https://raw.githubusercontent.com/ltdaovn/dataset/master/wine-reviews/winemag-data-130k-v2.csv\", index_col=0)\r\n",
        "print(\"Setup complete.\")"
      ],
      "execution_count": 33,
      "outputs": [
        {
          "output_type": "stream",
          "name": "stdout",
          "text": [
            "Setup complete.\n"
          ]
        }
      ]
    },
    {
      "cell_type": "markdown",
      "metadata": {
        "id": "qfW8_qQ1GRuY"
      },
      "source": [
        "##Exercises"
      ]
    },
    {
      "cell_type": "markdown",
      "metadata": {
        "id": "GgZ7yv-UGUxs"
      },
      "source": [
        "###1. `region_1` and `region_2` are pretty uninformative names for locale columns in the dataset. Create a copy of `reviews` with these columns renamed to `region` and `locale`, respectively."
      ]
    },
    {
      "cell_type": "code",
      "metadata": {
        "colab": {
          "base_uri": "https://localhost:8080/",
          "height": 305
        },
        "id": "Ehqd5JFOGln0",
        "outputId": "3eddbcdd-856c-400d-9da4-4f075533b86d"
      },
      "source": [
        "renamed = reviews.rename(columns=dict(region_1='region', region_2='locale'))\r\n",
        "renamed"
      ],
      "execution_count": 34,
      "outputs": [
        {
          "output_type": "execute_result",
          "data": {
            "text/plain": [
              "         country                                        description  \\\n",
              "0          Italy  Aromas include tropical fruit, broom, brimston...   \n",
              "1       Portugal  This is ripe and fruity, a wine that is smooth...   \n",
              "...          ...                                                ...   \n",
              "129969    France  A dry style of Pinot Gris, this is crisp with ...   \n",
              "129970    France  Big, rich and off-dry, this is powered by inte...   \n",
              "\n",
              "                          designation  points  price           province  \\\n",
              "0                        Vulkà Bianco      87    NaN  Sicily & Sardinia   \n",
              "1                            Avidagos      87   15.0              Douro   \n",
              "...                               ...     ...    ...                ...   \n",
              "129969                            NaN      90   32.0             Alsace   \n",
              "129970  Lieu-dit Harth Cuvée Caroline      90   21.0             Alsace   \n",
              "\n",
              "        region locale    taster_name taster_twitter_handle  \\\n",
              "0         Etna    NaN  Kerin O’Keefe          @kerinokeefe   \n",
              "1          NaN    NaN     Roger Voss            @vossroger   \n",
              "...        ...    ...            ...                   ...   \n",
              "129969  Alsace    NaN     Roger Voss            @vossroger   \n",
              "129970  Alsace    NaN     Roger Voss            @vossroger   \n",
              "\n",
              "                                                    title         variety  \\\n",
              "0                       Nicosia 2013 Vulkà Bianco  (Etna)     White Blend   \n",
              "1           Quinta dos Avidagos 2011 Avidagos Red (Douro)  Portuguese Red   \n",
              "...                                                   ...             ...   \n",
              "129969      Domaine Marcel Deiss 2012 Pinot Gris (Alsace)      Pinot Gris   \n",
              "129970  Domaine Schoffit 2012 Lieu-dit Harth Cuvée Car...  Gewürztraminer   \n",
              "\n",
              "                      winery  \n",
              "0                    Nicosia  \n",
              "1        Quinta dos Avidagos  \n",
              "...                      ...  \n",
              "129969  Domaine Marcel Deiss  \n",
              "129970      Domaine Schoffit  \n",
              "\n",
              "[129971 rows x 13 columns]"
            ],
            "text/html": "<div>\n<style scoped>\n    .dataframe tbody tr th:only-of-type {\n        vertical-align: middle;\n    }\n\n    .dataframe tbody tr th {\n        vertical-align: top;\n    }\n\n    .dataframe thead th {\n        text-align: right;\n    }\n</style>\n<table border=\"1\" class=\"dataframe\">\n  <thead>\n    <tr style=\"text-align: right;\">\n      <th></th>\n      <th>country</th>\n      <th>description</th>\n      <th>designation</th>\n      <th>points</th>\n      <th>price</th>\n      <th>province</th>\n      <th>region</th>\n      <th>locale</th>\n      <th>taster_name</th>\n      <th>taster_twitter_handle</th>\n      <th>title</th>\n      <th>variety</th>\n      <th>winery</th>\n    </tr>\n  </thead>\n  <tbody>\n    <tr>\n      <th>0</th>\n      <td>Italy</td>\n      <td>Aromas include tropical fruit, broom, brimston...</td>\n      <td>Vulkà Bianco</td>\n      <td>87</td>\n      <td>NaN</td>\n      <td>Sicily &amp; Sardinia</td>\n      <td>Etna</td>\n      <td>NaN</td>\n      <td>Kerin O’Keefe</td>\n      <td>@kerinokeefe</td>\n      <td>Nicosia 2013 Vulkà Bianco  (Etna)</td>\n      <td>White Blend</td>\n      <td>Nicosia</td>\n    </tr>\n    <tr>\n      <th>1</th>\n      <td>Portugal</td>\n      <td>This is ripe and fruity, a wine that is smooth...</td>\n      <td>Avidagos</td>\n      <td>87</td>\n      <td>15.0</td>\n      <td>Douro</td>\n      <td>NaN</td>\n      <td>NaN</td>\n      <td>Roger Voss</td>\n      <td>@vossroger</td>\n      <td>Quinta dos Avidagos 2011 Avidagos Red (Douro)</td>\n      <td>Portuguese Red</td>\n      <td>Quinta dos Avidagos</td>\n    </tr>\n    <tr>\n      <th>...</th>\n      <td>...</td>\n      <td>...</td>\n      <td>...</td>\n      <td>...</td>\n      <td>...</td>\n      <td>...</td>\n      <td>...</td>\n      <td>...</td>\n      <td>...</td>\n      <td>...</td>\n      <td>...</td>\n      <td>...</td>\n      <td>...</td>\n    </tr>\n    <tr>\n      <th>129969</th>\n      <td>France</td>\n      <td>A dry style of Pinot Gris, this is crisp with ...</td>\n      <td>NaN</td>\n      <td>90</td>\n      <td>32.0</td>\n      <td>Alsace</td>\n      <td>Alsace</td>\n      <td>NaN</td>\n      <td>Roger Voss</td>\n      <td>@vossroger</td>\n      <td>Domaine Marcel Deiss 2012 Pinot Gris (Alsace)</td>\n      <td>Pinot Gris</td>\n      <td>Domaine Marcel Deiss</td>\n    </tr>\n    <tr>\n      <th>129970</th>\n      <td>France</td>\n      <td>Big, rich and off-dry, this is powered by inte...</td>\n      <td>Lieu-dit Harth Cuvée Caroline</td>\n      <td>90</td>\n      <td>21.0</td>\n      <td>Alsace</td>\n      <td>Alsace</td>\n      <td>NaN</td>\n      <td>Roger Voss</td>\n      <td>@vossroger</td>\n      <td>Domaine Schoffit 2012 Lieu-dit Harth Cuvée Car...</td>\n      <td>Gewürztraminer</td>\n      <td>Domaine Schoffit</td>\n    </tr>\n  </tbody>\n</table>\n<p>129971 rows × 13 columns</p>\n</div>"
          },
          "metadata": {},
          "execution_count": 34
        }
      ]
    },
    {
      "cell_type": "markdown",
      "metadata": {
        "id": "AtYbfrxnGss8"
      },
      "source": [
        "###2. Set the `index` name in the dataset to wines."
      ]
    },
    {
      "cell_type": "code",
      "metadata": {
        "colab": {
          "base_uri": "https://localhost:8080/",
          "height": 371
        },
        "id": "QCzvbRfDGv_4",
        "outputId": "b35f70b9-1b0d-4866-e734-bf1a4cf15dfe"
      },
      "source": [
        "reindexed = reviews.rename_axis('wines', axis='rows')\r\n",
        "reindexed"
      ],
      "execution_count": 35,
      "outputs": [
        {
          "output_type": "execute_result",
          "data": {
            "text/plain": [
              "         country                                        description  \\\n",
              "wines                                                                 \n",
              "0          Italy  Aromas include tropical fruit, broom, brimston...   \n",
              "1       Portugal  This is ripe and fruity, a wine that is smooth...   \n",
              "...          ...                                                ...   \n",
              "129969    France  A dry style of Pinot Gris, this is crisp with ...   \n",
              "129970    France  Big, rich and off-dry, this is powered by inte...   \n",
              "\n",
              "                          designation  points  price           province  \\\n",
              "wines                                                                     \n",
              "0                        Vulkà Bianco      87    NaN  Sicily & Sardinia   \n",
              "1                            Avidagos      87   15.0              Douro   \n",
              "...                               ...     ...    ...                ...   \n",
              "129969                            NaN      90   32.0             Alsace   \n",
              "129970  Lieu-dit Harth Cuvée Caroline      90   21.0             Alsace   \n",
              "\n",
              "       region_1 region_2    taster_name taster_twitter_handle  \\\n",
              "wines                                                           \n",
              "0          Etna      NaN  Kerin O’Keefe          @kerinokeefe   \n",
              "1           NaN      NaN     Roger Voss            @vossroger   \n",
              "...         ...      ...            ...                   ...   \n",
              "129969   Alsace      NaN     Roger Voss            @vossroger   \n",
              "129970   Alsace      NaN     Roger Voss            @vossroger   \n",
              "\n",
              "                                                    title         variety  \\\n",
              "wines                                                                       \n",
              "0                       Nicosia 2013 Vulkà Bianco  (Etna)     White Blend   \n",
              "1           Quinta dos Avidagos 2011 Avidagos Red (Douro)  Portuguese Red   \n",
              "...                                                   ...             ...   \n",
              "129969      Domaine Marcel Deiss 2012 Pinot Gris (Alsace)      Pinot Gris   \n",
              "129970  Domaine Schoffit 2012 Lieu-dit Harth Cuvée Car...  Gewürztraminer   \n",
              "\n",
              "                      winery  \n",
              "wines                         \n",
              "0                    Nicosia  \n",
              "1        Quinta dos Avidagos  \n",
              "...                      ...  \n",
              "129969  Domaine Marcel Deiss  \n",
              "129970      Domaine Schoffit  \n",
              "\n",
              "[129971 rows x 13 columns]"
            ],
            "text/html": "<div>\n<style scoped>\n    .dataframe tbody tr th:only-of-type {\n        vertical-align: middle;\n    }\n\n    .dataframe tbody tr th {\n        vertical-align: top;\n    }\n\n    .dataframe thead th {\n        text-align: right;\n    }\n</style>\n<table border=\"1\" class=\"dataframe\">\n  <thead>\n    <tr style=\"text-align: right;\">\n      <th></th>\n      <th>country</th>\n      <th>description</th>\n      <th>designation</th>\n      <th>points</th>\n      <th>price</th>\n      <th>province</th>\n      <th>region_1</th>\n      <th>region_2</th>\n      <th>taster_name</th>\n      <th>taster_twitter_handle</th>\n      <th>title</th>\n      <th>variety</th>\n      <th>winery</th>\n    </tr>\n    <tr>\n      <th>wines</th>\n      <th></th>\n      <th></th>\n      <th></th>\n      <th></th>\n      <th></th>\n      <th></th>\n      <th></th>\n      <th></th>\n      <th></th>\n      <th></th>\n      <th></th>\n      <th></th>\n      <th></th>\n    </tr>\n  </thead>\n  <tbody>\n    <tr>\n      <th>0</th>\n      <td>Italy</td>\n      <td>Aromas include tropical fruit, broom, brimston...</td>\n      <td>Vulkà Bianco</td>\n      <td>87</td>\n      <td>NaN</td>\n      <td>Sicily &amp; Sardinia</td>\n      <td>Etna</td>\n      <td>NaN</td>\n      <td>Kerin O’Keefe</td>\n      <td>@kerinokeefe</td>\n      <td>Nicosia 2013 Vulkà Bianco  (Etna)</td>\n      <td>White Blend</td>\n      <td>Nicosia</td>\n    </tr>\n    <tr>\n      <th>1</th>\n      <td>Portugal</td>\n      <td>This is ripe and fruity, a wine that is smooth...</td>\n      <td>Avidagos</td>\n      <td>87</td>\n      <td>15.0</td>\n      <td>Douro</td>\n      <td>NaN</td>\n      <td>NaN</td>\n      <td>Roger Voss</td>\n      <td>@vossroger</td>\n      <td>Quinta dos Avidagos 2011 Avidagos Red (Douro)</td>\n      <td>Portuguese Red</td>\n      <td>Quinta dos Avidagos</td>\n    </tr>\n    <tr>\n      <th>...</th>\n      <td>...</td>\n      <td>...</td>\n      <td>...</td>\n      <td>...</td>\n      <td>...</td>\n      <td>...</td>\n      <td>...</td>\n      <td>...</td>\n      <td>...</td>\n      <td>...</td>\n      <td>...</td>\n      <td>...</td>\n      <td>...</td>\n    </tr>\n    <tr>\n      <th>129969</th>\n      <td>France</td>\n      <td>A dry style of Pinot Gris, this is crisp with ...</td>\n      <td>NaN</td>\n      <td>90</td>\n      <td>32.0</td>\n      <td>Alsace</td>\n      <td>Alsace</td>\n      <td>NaN</td>\n      <td>Roger Voss</td>\n      <td>@vossroger</td>\n      <td>Domaine Marcel Deiss 2012 Pinot Gris (Alsace)</td>\n      <td>Pinot Gris</td>\n      <td>Domaine Marcel Deiss</td>\n    </tr>\n    <tr>\n      <th>129970</th>\n      <td>France</td>\n      <td>Big, rich and off-dry, this is powered by inte...</td>\n      <td>Lieu-dit Harth Cuvée Caroline</td>\n      <td>90</td>\n      <td>21.0</td>\n      <td>Alsace</td>\n      <td>Alsace</td>\n      <td>NaN</td>\n      <td>Roger Voss</td>\n      <td>@vossroger</td>\n      <td>Domaine Schoffit 2012 Lieu-dit Harth Cuvée Car...</td>\n      <td>Gewürztraminer</td>\n      <td>Domaine Schoffit</td>\n    </tr>\n  </tbody>\n</table>\n<p>129971 rows × 13 columns</p>\n</div>"
          },
          "metadata": {},
          "execution_count": 35
        }
      ]
    },
    {
      "cell_type": "markdown",
      "metadata": {
        "id": "e3BS-dExG1AM"
      },
      "source": [
        "###3. The [Things on Reddit](https://www.kaggle.com/residentmario/things-on-reddit/data) dataset includes product links from a selection of top-ranked forums (\"subreddits\") on reddit.com. Run the cell below toload a dataframe of products mentioned on the */r/gaming* subreddit and another dataframe for products mentioned on the */r/movies* subreddit."
      ]
    },
    {
      "cell_type": "code",
      "metadata": {
        "id": "QWQuE982HKcE"
      },
      "source": [
        "gaming_products = pd.read_csv(\"https://raw.githubusercontent.com/ThingsOnReddit/top-things/master/reddits/g/gaming.csv\")\r\n",
        "gaming_products['subreddit'] = \"r/gaming\"\r\n",
        "movie_products = pd.read_csv(\"https://raw.githubusercontent.com/ThingsOnReddit/top-things/master/reddits/m/movies.csv\")\r\n",
        "movie_products['subreddit'] = \"r/movies\""
      ],
      "execution_count": 36,
      "outputs": []
    },
    {
      "cell_type": "markdown",
      "metadata": {
        "id": "wd10XeFOHWeY"
      },
      "source": [
        "Create a `DataFrame` of products mentioned on *either* subreddit."
      ]
    },
    {
      "cell_type": "code",
      "metadata": {
        "colab": {
          "base_uri": "https://localhost:8080/",
          "height": 236
        },
        "id": "86Dprgk6HR6M",
        "outputId": "d3b72d9e-caff-40da-9a3b-19aa03ee3a9b"
      },
      "source": [
        "combined_products = combined_products = pd.concat([gaming_products, movie_products])\r\n",
        "combined_products"
      ],
      "execution_count": 37,
      "outputs": [
        {
          "output_type": "execute_result",
          "data": {
            "text/plain": [
              "                                                 name           category  \\\n",
              "0   Buffalo iBuffalo Classic USB Gamepad for PC BS...  Personal Computer   \n",
              "1   GAEMS Vanguard Personal Gaming Environment for...        Video Games   \n",
              "..                                                ...                ...   \n",
              "98                                  Starship Troopers               Book   \n",
              "99  Which Lie Did I Tell?: More Adventures in the ...               Book   \n",
              "\n",
              "                             amazon_link  total_mentions  subreddit_mentions  \\\n",
              "0   http://www.amazon.com/dp/B002B9XB0E/             141                  16   \n",
              "1   http://www.amazon.com/dp/B00H0R9DSG/              37                  14   \n",
              "..                                   ...             ...                 ...   \n",
              "98  http://www.amazon.com/dp/0441783589/              20                   2   \n",
              "99  http://www.amazon.com/dp/0375703195/               3                   2   \n",
              "\n",
              "   subreddit  \n",
              "0   r/gaming  \n",
              "1   r/gaming  \n",
              "..       ...  \n",
              "98  r/movies  \n",
              "99  r/movies  \n",
              "\n",
              "[200 rows x 6 columns]"
            ],
            "text/html": "<div>\n<style scoped>\n    .dataframe tbody tr th:only-of-type {\n        vertical-align: middle;\n    }\n\n    .dataframe tbody tr th {\n        vertical-align: top;\n    }\n\n    .dataframe thead th {\n        text-align: right;\n    }\n</style>\n<table border=\"1\" class=\"dataframe\">\n  <thead>\n    <tr style=\"text-align: right;\">\n      <th></th>\n      <th>name</th>\n      <th>category</th>\n      <th>amazon_link</th>\n      <th>total_mentions</th>\n      <th>subreddit_mentions</th>\n      <th>subreddit</th>\n    </tr>\n  </thead>\n  <tbody>\n    <tr>\n      <th>0</th>\n      <td>Buffalo iBuffalo Classic USB Gamepad for PC BS...</td>\n      <td>Personal Computer</td>\n      <td>http://www.amazon.com/dp/B002B9XB0E/</td>\n      <td>141</td>\n      <td>16</td>\n      <td>r/gaming</td>\n    </tr>\n    <tr>\n      <th>1</th>\n      <td>GAEMS Vanguard Personal Gaming Environment for...</td>\n      <td>Video Games</td>\n      <td>http://www.amazon.com/dp/B00H0R9DSG/</td>\n      <td>37</td>\n      <td>14</td>\n      <td>r/gaming</td>\n    </tr>\n    <tr>\n      <th>...</th>\n      <td>...</td>\n      <td>...</td>\n      <td>...</td>\n      <td>...</td>\n      <td>...</td>\n      <td>...</td>\n    </tr>\n    <tr>\n      <th>98</th>\n      <td>Starship Troopers</td>\n      <td>Book</td>\n      <td>http://www.amazon.com/dp/0441783589/</td>\n      <td>20</td>\n      <td>2</td>\n      <td>r/movies</td>\n    </tr>\n    <tr>\n      <th>99</th>\n      <td>Which Lie Did I Tell?: More Adventures in the ...</td>\n      <td>Book</td>\n      <td>http://www.amazon.com/dp/0375703195/</td>\n      <td>3</td>\n      <td>2</td>\n      <td>r/movies</td>\n    </tr>\n  </tbody>\n</table>\n<p>200 rows × 6 columns</p>\n</div>"
          },
          "metadata": {},
          "execution_count": 37
        }
      ]
    },
    {
      "cell_type": "markdown",
      "metadata": {
        "id": "pfG3iFVZHfBQ"
      },
      "source": [
        "###4. The [Powerlifting Database](https://www.kaggle.com/open-powerlifting/powerlifting-database) dataset on Kaggle includes one CSV table for powerlifting meets and a separate one for powerlifting competitors.Run the cell below to load these datasets into dataframes:"
      ]
    },
    {
      "cell_type": "code",
      "metadata": {
        "id": "mxNdg2uWHotk"
      },
      "source": [
        "powerlifting_meets = pd.read_csv(\"https://raw.githubusercontent.com/ltdaovn/dataset/master/powerlifting-database/meets.csv\")\r\n",
        "powerlifting_competitors = pd.read_csv(\"https://raw.githubusercontent.com/ltdaovn/dataset/master/powerlifting-database/openpowerlifting.csv\")"
      ],
      "execution_count": 38,
      "outputs": []
    },
    {
      "cell_type": "markdown",
      "metadata": {
        "id": "OXpIHWb2H7So"
      },
      "source": [
        "Both tables include references to a `MeetID`, a unique key for each meet (competition) included in the database. Using this, generate a datasetcombining the two tables into one."
      ]
    },
    {
      "cell_type": "code",
      "metadata": {
        "colab": {
          "base_uri": "https://localhost:8080/",
          "height": 495
        },
        "id": "vfPoeTR-H7GI",
        "outputId": "1e44b9b1-7b88-4696-995f-98685a846247"
      },
      "source": [
        "left = powerlifting_meets.set_index(['MeetID'])\r\n",
        "right = powerlifting_competitors.set_index(['MeetID'])\r\n",
        "powerlifting_combined = left.join(right)\r\n",
        "powerlifting_combined"
      ],
      "execution_count": 39,
      "outputs": [
        {
          "output_type": "execute_result",
          "data": {
            "text/plain": [
              "               MeetPath Federation        Date MeetCountry MeetState  \\\n",
              "MeetID                                                                 \n",
              "0        365strong/1601  365Strong  2016-10-29         USA        NC   \n",
              "0        365strong/1601  365Strong  2016-10-29         USA        NC   \n",
              "...                 ...        ...         ...         ...       ...   \n",
              "8481    xpc/2017-finals        XPC  2017-03-03         USA        OH   \n",
              "8481    xpc/2017-finals        XPC  2017-03-03         USA        OH   \n",
              "\n",
              "         MeetTown                                           MeetName  \\\n",
              "MeetID                                                                 \n",
              "0       Charlotte  2016 Junior & Senior National Powerlifting Cha...   \n",
              "0       Charlotte  2016 Junior & Senior National Powerlifting Cha...   \n",
              "...           ...                                                ...   \n",
              "8481     Columbus                                    2017 XPC Finals   \n",
              "8481     Columbus                                    2017 XPC Finals   \n",
              "\n",
              "                    Name Sex   Equipment  ...  WeightClassKg Squat4Kg  \\\n",
              "MeetID                                    ...                           \n",
              "0       Angie Belk Terry   F       Wraps  ...             60      NaN   \n",
              "0            Dawn Bogart   F  Single-ply  ...             60      NaN   \n",
              "...                  ...  ..         ...  ...            ...      ...   \n",
              "8481      Jeff Bumanglag   M   Multi-ply  ...            140      NaN   \n",
              "8481       Shane Hammock   M   Multi-ply  ...            140      NaN   \n",
              "\n",
              "        BestSquatKg Bench4Kg  BestBenchKg  Deadlift4Kg  BestDeadliftKg  \\\n",
              "MeetID                                                                   \n",
              "0             47.63      NaN        20.41          NaN           70.31   \n",
              "0            142.88      NaN        95.25          NaN          163.29   \n",
              "...             ...      ...          ...          ...             ...   \n",
              "8481            NaN      NaN          NaN          NaN          320.00   \n",
              "8481            NaN      NaN          NaN          NaN          362.50   \n",
              "\n",
              "        TotalKg  Place   Wilks  \n",
              "MeetID                          \n",
              "0        138.35      1  155.05  \n",
              "0        401.42      1  456.38  \n",
              "...         ...    ...     ...  \n",
              "8481     320.00      3  181.85  \n",
              "8481     362.50      2  205.18  \n",
              "\n",
              "[386414 rows x 23 columns]"
            ],
            "text/html": "<div>\n<style scoped>\n    .dataframe tbody tr th:only-of-type {\n        vertical-align: middle;\n    }\n\n    .dataframe tbody tr th {\n        vertical-align: top;\n    }\n\n    .dataframe thead th {\n        text-align: right;\n    }\n</style>\n<table border=\"1\" class=\"dataframe\">\n  <thead>\n    <tr style=\"text-align: right;\">\n      <th></th>\n      <th>MeetPath</th>\n      <th>Federation</th>\n      <th>Date</th>\n      <th>MeetCountry</th>\n      <th>MeetState</th>\n      <th>MeetTown</th>\n      <th>MeetName</th>\n      <th>Name</th>\n      <th>Sex</th>\n      <th>Equipment</th>\n      <th>...</th>\n      <th>WeightClassKg</th>\n      <th>Squat4Kg</th>\n      <th>BestSquatKg</th>\n      <th>Bench4Kg</th>\n      <th>BestBenchKg</th>\n      <th>Deadlift4Kg</th>\n      <th>BestDeadliftKg</th>\n      <th>TotalKg</th>\n      <th>Place</th>\n      <th>Wilks</th>\n    </tr>\n    <tr>\n      <th>MeetID</th>\n      <th></th>\n      <th></th>\n      <th></th>\n      <th></th>\n      <th></th>\n      <th></th>\n      <th></th>\n      <th></th>\n      <th></th>\n      <th></th>\n      <th></th>\n      <th></th>\n      <th></th>\n      <th></th>\n      <th></th>\n      <th></th>\n      <th></th>\n      <th></th>\n      <th></th>\n      <th></th>\n      <th></th>\n    </tr>\n  </thead>\n  <tbody>\n    <tr>\n      <th>0</th>\n      <td>365strong/1601</td>\n      <td>365Strong</td>\n      <td>2016-10-29</td>\n      <td>USA</td>\n      <td>NC</td>\n      <td>Charlotte</td>\n      <td>2016 Junior &amp; Senior National Powerlifting Cha...</td>\n      <td>Angie Belk Terry</td>\n      <td>F</td>\n      <td>Wraps</td>\n      <td>...</td>\n      <td>60</td>\n      <td>NaN</td>\n      <td>47.63</td>\n      <td>NaN</td>\n      <td>20.41</td>\n      <td>NaN</td>\n      <td>70.31</td>\n      <td>138.35</td>\n      <td>1</td>\n      <td>155.05</td>\n    </tr>\n    <tr>\n      <th>0</th>\n      <td>365strong/1601</td>\n      <td>365Strong</td>\n      <td>2016-10-29</td>\n      <td>USA</td>\n      <td>NC</td>\n      <td>Charlotte</td>\n      <td>2016 Junior &amp; Senior National Powerlifting Cha...</td>\n      <td>Dawn Bogart</td>\n      <td>F</td>\n      <td>Single-ply</td>\n      <td>...</td>\n      <td>60</td>\n      <td>NaN</td>\n      <td>142.88</td>\n      <td>NaN</td>\n      <td>95.25</td>\n      <td>NaN</td>\n      <td>163.29</td>\n      <td>401.42</td>\n      <td>1</td>\n      <td>456.38</td>\n    </tr>\n    <tr>\n      <th>...</th>\n      <td>...</td>\n      <td>...</td>\n      <td>...</td>\n      <td>...</td>\n      <td>...</td>\n      <td>...</td>\n      <td>...</td>\n      <td>...</td>\n      <td>...</td>\n      <td>...</td>\n      <td>...</td>\n      <td>...</td>\n      <td>...</td>\n      <td>...</td>\n      <td>...</td>\n      <td>...</td>\n      <td>...</td>\n      <td>...</td>\n      <td>...</td>\n      <td>...</td>\n      <td>...</td>\n    </tr>\n    <tr>\n      <th>8481</th>\n      <td>xpc/2017-finals</td>\n      <td>XPC</td>\n      <td>2017-03-03</td>\n      <td>USA</td>\n      <td>OH</td>\n      <td>Columbus</td>\n      <td>2017 XPC Finals</td>\n      <td>Jeff Bumanglag</td>\n      <td>M</td>\n      <td>Multi-ply</td>\n      <td>...</td>\n      <td>140</td>\n      <td>NaN</td>\n      <td>NaN</td>\n      <td>NaN</td>\n      <td>NaN</td>\n      <td>NaN</td>\n      <td>320.00</td>\n      <td>320.00</td>\n      <td>3</td>\n      <td>181.85</td>\n    </tr>\n    <tr>\n      <th>8481</th>\n      <td>xpc/2017-finals</td>\n      <td>XPC</td>\n      <td>2017-03-03</td>\n      <td>USA</td>\n      <td>OH</td>\n      <td>Columbus</td>\n      <td>2017 XPC Finals</td>\n      <td>Shane Hammock</td>\n      <td>M</td>\n      <td>Multi-ply</td>\n      <td>...</td>\n      <td>140</td>\n      <td>NaN</td>\n      <td>NaN</td>\n      <td>NaN</td>\n      <td>NaN</td>\n      <td>NaN</td>\n      <td>362.50</td>\n      <td>362.50</td>\n      <td>2</td>\n      <td>205.18</td>\n    </tr>\n  </tbody>\n</table>\n<p>386414 rows × 23 columns</p>\n</div>"
          },
          "metadata": {},
          "execution_count": 39
        }
      ]
    }
  ]
}